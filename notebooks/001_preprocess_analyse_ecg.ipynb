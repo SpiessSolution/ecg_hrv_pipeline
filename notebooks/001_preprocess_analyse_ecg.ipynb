{
 "cells": [
  {
   "cell_type": "markdown",
   "metadata": {},
   "source": [
    "# 001 Preprocess and analyse ECG\n",
    "\n",
    "### Purpose\n",
    "Purpose of this notebook is to preprocess the raw ECG data for the 'We Love Reading' study.\n",
    "\n",
    "- Neurokit2 package with a custom pipeline will be used for preprocessing\n",
    "- Segmentation is performed afterwards\n",
    "- QA figures will be exported for every partipant\n",
    "- The processed signal data will be exported\n",
    "- HRV metrics are computed and exported\n",
    "\n",
    "\n",
    "### Input / Output\n",
    "- Input: `~/data/raw`\n",
    "- Outputs:\n",
    "  - QA visualizations: `~/reports/ECG QA`\n",
    "  - Processed signal data and HRV metrics: `~/data/processed`\n",
    "  \n",
    "**Note**:\n",
    "- Output folders are created if they do not exist\n"
   ]
  },
  {
   "cell_type": "markdown",
   "metadata": {},
   "source": [
    "### Imports"
   ]
  },
  {
   "cell_type": "code",
   "execution_count": 10,
   "metadata": {},
   "outputs": [],
   "source": [
    "# fmt: off\n",
    "from pathlib import Path\n",
    "import numpy as np\n",
    "import matplotlib.pyplot as plt\n",
    "import importlib\n",
    "import nk_pipeline\n",
    "import neurokit2 as nk\n",
    "import parameters as params\n",
    "import data_utils\n",
    "import common\n",
    "importlib.reload(nk)\n",
    "importlib.reload(nk_pipeline)\n",
    "importlib.reload(params)\n",
    "importlib.reload(data_utils)\n",
    "importlib.reload(common)\n",
    "import warnings\n",
    "# fmt:on\n"
   ]
  },
  {
   "cell_type": "markdown",
   "metadata": {},
   "source": [
    "## Parameters"
   ]
  },
  {
   "cell_type": "markdown",
   "metadata": {},
   "source": [
    "#### IO"
   ]
  },
  {
   "cell_type": "code",
   "execution_count": 11,
   "metadata": {},
   "outputs": [],
   "source": [
    "WORKING_DIR = Path().cwd()\n",
    "ROOT_DIR = WORKING_DIR.parent\n",
    "DATA_DIR = ROOT_DIR / 'data'\n",
    "RAW_DATA_DIR = DATA_DIR / 'raw'\n",
    "PROCESSED_DATA_DIR = DATA_DIR / 'processed'\n",
    "PROCESSED_DATA_DIR.mkdir(parents=False, exist_ok=True)\n",
    "REPORTS_DIR = ROOT_DIR / 'reports'\n",
    "REPORTS_DIR.mkdir(parents=False, exist_ok=True) \n",
    "QA_REPORTS_DIR = REPORTS_DIR / 'QA'\n",
    "QA_REPORTS_DIR.mkdir(parents=False, exist_ok=True) "
   ]
  },
  {
   "cell_type": "markdown",
   "metadata": {},
   "source": [
    "## Support Functions"
   ]
  },
  {
   "cell_type": "code",
   "execution_count": null,
   "metadata": {},
   "outputs": [],
   "source": []
  },
  {
   "cell_type": "markdown",
   "metadata": {},
   "source": [
    "# Prepare Data"
   ]
  },
  {
   "cell_type": "markdown",
   "metadata": {},
   "source": [
    "## Filepaths"
   ]
  },
  {
   "cell_type": "markdown",
   "metadata": {},
   "source": [
    "ECG"
   ]
  },
  {
   "cell_type": "code",
   "execution_count": 12,
   "metadata": {},
   "outputs": [],
   "source": [
    "ecg_filepaths = np.sort(list(RAW_DATA_DIR.glob('*mc.txt')))\n",
    "# [print(f) for f in ecg_filepaths];\n",
    "# [print(data_utils.extract_subject_id_condition_from_filepath(f)) for f in ecg_filepaths];"
   ]
  },
  {
   "cell_type": "markdown",
   "metadata": {},
   "source": [
    "Events"
   ]
  },
  {
   "cell_type": "code",
   "execution_count": 13,
   "metadata": {},
   "outputs": [],
   "source": [
    "event_filepaths = np.sort(list(RAW_DATA_DIR.glob('*event.txt')))\n",
    "# [print(f) for f in event_filepaths];\n",
    "# [print(data_utils.extract_subject_id_condition_from_filepath(f)) for f in event_filepaths];"
   ]
  },
  {
   "cell_type": "markdown",
   "metadata": {},
   "source": [
    "# Apply the pipeline\n",
    "\n",
    "- Make sure that the order of the ECG and Event files match.\n",
    "\n",
    "**ToDo**\n",
    "- Improve reading/checking ECG and Event files to make sure they match"
   ]
  },
  {
   "cell_type": "code",
   "execution_count": null,
   "metadata": {},
   "outputs": [
    {
     "name": "stdout",
     "output_type": "stream",
     "text": [
      "Processing recording 1/177. Dyad number: 1. Condition: B. Wave: W2\n",
      "Processing recording 2/177. Dyad number: 1. Condition: B. Wave: W3\n",
      "Processing recording 3/177. Dyad number: 2. Condition: B. Wave: W2\n",
      "Processing recording 4/177. Dyad number: 2. Condition: B. Wave: W3\n",
      "Processing recording 5/177. Dyad number: 3. Condition: B. Wave: W2\n",
      "Processing recording 6/177. Dyad number: 3. Condition: B. Wave: W3\n",
      "Processing recording 7/177. Dyad number: 4. Condition: B. Wave: w1\n",
      "Error processing /Users/lukasspiess/Library/CloudStorage/OneDrive-SpiessSolution/Documents - We Love Reading/Welcome/data/raw/B04_w1_mc.txt: Found 3 rows in df for event: Book start\n",
      "Processing recording 8/177. Dyad number: 5. Condition: B. Wave: W2\n",
      "Processing recording 9/177. Dyad number: 5. Condition: B. Wave: W3\n",
      "Processing recording 10/177. Dyad number: 5. Condition: B. Wave: w1\n",
      "Processing recording 11/177. Dyad number: 8. Condition: B. Wave: W3\n",
      "Processing recording 12/177. Dyad number: 8. Condition: B. Wave: w1\n",
      "Processing recording 13/177. Dyad number: 9. Condition: B. Wave: W3\n",
      "Processing recording 14/177. Dyad number: 9. Condition: B. Wave: w1\n",
      "Processing recording 15/177. Dyad number: 10. Condition: B. Wave: W2\n"
     ]
    }
   ],
   "source": [
    "for index in range(len(ecg_filepaths)):\n",
    "    try:\n",
    "        dyad_number, condition, wave = data_utils.extract_subject_id_condition_from_filepath(ecg_filepaths[index])\n",
    "        print(f\"Processing recording {index+1}/{len(ecg_filepaths)}. Dyad number: {dyad_number}. Condition: {condition}. Wave: {wave}\")\n",
    "        nk_pipeline.process_dyad(\n",
    "            ecg_filepath = ecg_filepaths[index],\n",
    "            event_filepath = event_filepaths[index],\n",
    "            parameters=params.base_params,\n",
    "            data_output_dir=PROCESSED_DATA_DIR,\n",
    "            figure_output_dir=QA_REPORTS_DIR\n",
    "        );\n",
    "    except Exception as e:\n",
    "        print(f\"Error processing {ecg_filepaths[index]}: {e}\")\n"
   ]
  },
  {
   "cell_type": "markdown",
   "metadata": {},
   "source": [
    "# DEBUG STUFF\n",
    "|    \n",
    "V    "
   ]
  },
  {
   "cell_type": "code",
   "execution_count": null,
   "metadata": {},
   "outputs": [],
   "source": [
    "event_filepaths[0]"
   ]
  },
  {
   "cell_type": "code",
   "execution_count": null,
   "metadata": {},
   "outputs": [],
   "source": [
    "ecg_filepaths[0]"
   ]
  },
  {
   "cell_type": "markdown",
   "metadata": {},
   "source": [
    "# Preprocess first"
   ]
  },
  {
   "cell_type": "code",
   "execution_count": null,
   "metadata": {},
   "outputs": [],
   "source": [
    "# Load and prepare\n",
    "signal_event_df = nk_pipeline.load_dyad_ecg_events(ecg_filepaths[0], event_filepaths[0])\n",
    "dyad_parameters = params.configure_segmentation_params(1, params.base_params)\n",
    "child_params, mother_params = params.configure_ecg_params(1, dyad_parameters)\n",
    "child_series, mother_series = nk_pipeline.split_in_child_mother_series(signal_event_df)\n",
    "\n",
    "# Preprocess ECG\n",
    "child_signals_df = nk_pipeline.ecg_preprocess(child_series, child_params)\n",
    "mother_signals_df = nk_pipeline.ecg_preprocess(mother_series, mother_params)\n",
    "\n",
    "# Join the preprocessed signals with the events\n",
    "child_signal_event_df = child_signals_df.merge(signal_event_df[[\"event\", \"event_description\"]], left_index=True, right_index=True, how = \"left\")\n",
    "mother_signal_event_df = mother_signals_df.merge(signal_event_df[[\"event\", \"event_description\"]], left_index=True, right_index=True, how = \"left\")"
   ]
  },
  {
   "cell_type": "code",
   "execution_count": null,
   "metadata": {},
   "outputs": [],
   "source": [
    "child_signal_event_df.head()"
   ]
  },
  {
   "cell_type": "markdown",
   "metadata": {},
   "source": [
    "## Then segment and analyze"
   ]
  },
  {
   "cell_type": "code",
   "execution_count": null,
   "metadata": {},
   "outputs": [],
   "source": [
    "# segment the dataframe\n",
    "child_segments_df_list = nk_pipeline.segment_df(child_signal_event_df, dyad_parameters)\n",
    "mother_segments_df_list = nk_pipeline.segment_df(mother_signal_event_df, dyad_parameters)"
   ]
  },
  {
   "cell_type": "code",
   "execution_count": null,
   "metadata": {},
   "outputs": [],
   "source": [
    "child_segments_df_list[0]"
   ]
  },
  {
   "cell_type": "code",
   "execution_count": null,
   "metadata": {},
   "outputs": [],
   "source": [
    "child_segments_df_list[0][\"event_description\"].iloc[0]"
   ]
  },
  {
   "cell_type": "code",
   "execution_count": null,
   "metadata": {},
   "outputs": [],
   "source": []
  }
 ],
 "metadata": {
  "kernelspec": {
   "display_name": "neuroprofile",
   "language": "python",
   "name": "python3"
  },
  "language_info": {
   "codemirror_mode": {
    "name": "ipython",
    "version": 3
   },
   "file_extension": ".py",
   "mimetype": "text/x-python",
   "name": "python",
   "nbconvert_exporter": "python",
   "pygments_lexer": "ipython3",
   "version": "3.10.14"
  }
 },
 "nbformat": 4,
 "nbformat_minor": 2
}
