{
 "cells": [
  {
   "cell_type": "markdown",
   "metadata": {},
   "source": [
    "# 001 Preprocess and analyse ECG\n",
    "\n",
    "### Purpose\n",
    "Purpose of this notebook is to preprocess the raw ECG data for the 'We Love Reading' study.\n",
    "\n",
    "- Neurokit2 package with a custom pipeline will be used for preprocessing\n",
    "- Segmentation is performed afterwards\n",
    "- QA figures will be exported for every partipant\n",
    "- The processed signal data will be exported\n",
    "- HRV metrics are computed and exported\n",
    "\n",
    "\n",
    "### Input / Output\n",
    "- Input: `~/data/raw`\n",
    "- Outputs:\n",
    "  - QA visualizations: `~/reports/ECG QA`\n",
    "  - Processed signal data and HRV metrics: `~/data/processed`\n",
    "  \n",
    "**Note**:\n",
    "- Output folders are created if they do not exist\n",
    "- Make sure the **filenames follows the following format**:\n",
    "  -  `[condition][id]_W[wavenumber]_mc.txt` for the ECG recordings\n",
    "  -  `[condition][id]_W[wavenumber]_event.txt` for the corresponding events\n",
    "  -  ...where \n",
    "     -  `[condition]` is a single letter\n",
    "     -  `[id]` is a number\n",
    "     -  `[wavenumber]` is a number \n",
    "  -  *Example*: B40_W3_mc.txt\n",
    "  -  Note that it is not case sensitive \n"
   ]
  },
  {
   "cell_type": "markdown",
   "metadata": {},
   "source": [
    "### Imports"
   ]
  },
  {
   "cell_type": "code",
   "execution_count": 13,
   "metadata": {},
   "outputs": [],
   "source": [
    "# fmt: off\n",
    "from pathlib import Path\n",
    "import numpy as np\n",
    "import importlib\n",
    "import neurokit2 as nk\n",
    "import sys\n",
    "sys.path.append(str(Path().cwd().parent/'src'))\n",
    "import utils.parameters as params\n",
    "import utils.common as common\n",
    "import utils.data_utils as data_utils\n",
    "import utils.nk_pipeline as nk_pipeline\n",
    "import app.main as app\n",
    "importlib.reload(nk)\n",
    "importlib.reload(nk_pipeline)\n",
    "importlib.reload(params)\n",
    "importlib.reload(data_utils)\n",
    "importlib.reload(common)\n",
    "import matplotlib.pyplot as plt\n",
    "plt.ioff()  # Turn off interactive mode\n",
    "import gc\n",
    "# fmt:on\n"
   ]
  },
  {
   "cell_type": "markdown",
   "metadata": {},
   "source": [
    "# <span style=\"color:blue\">Apply the pipeline</span>"
   ]
  },
  {
   "cell_type": "markdown",
   "metadata": {},
   "source": [
    "## Set up some Input and Output parameters"
   ]
  },
  {
   "cell_type": "code",
   "execution_count": 14,
   "metadata": {},
   "outputs": [],
   "source": [
    "WORKING_DIR = Path().cwd()\n",
    "ROOT_DIR = WORKING_DIR.parent\n",
    "DATA_DIR = ROOT_DIR / 'data'\n",
    "RAW_DATA_DIR = DATA_DIR / 'raw'\n",
    "PROCESSED_DATA_DIR = DATA_DIR / 'processed' # where to save output data \n",
    "PROCESSED_DATA_DIR.mkdir(parents=False, exist_ok=True)\n",
    "QA_REPORTS_DIR = ROOT_DIR / \"reports\" / 'QA' # where to save QA visualizations\n",
    "QA_REPORTS_DIR.mkdir(parents=True, exist_ok=True) "
   ]
  },
  {
   "cell_type": "markdown",
   "metadata": {},
   "source": [
    "### Example 1: Process a single dyad\n",
    "\n",
    "**Below an example for how to process and analyse the data from a single dyad.**"
   ]
  },
  {
   "cell_type": "markdown",
   "metadata": {},
   "source": [
    "Read all ECG datafiles in the Raw data directory"
   ]
  },
  {
   "cell_type": "code",
   "execution_count": 15,
   "metadata": {},
   "outputs": [],
   "source": [
    "ecg_filepaths = np.sort(list(RAW_DATA_DIR.glob('*mc.txt')))\n",
    "# [print(f) for f in ecg_filepaths];\n",
    "# [print(data_utils.extract_subject_id_condition_from_filepath(f)) for f in ecg_filepaths];"
   ]
  },
  {
   "cell_type": "markdown",
   "metadata": {},
   "source": [
    "Read all Event datafiles in the Raw data directory"
   ]
  },
  {
   "cell_type": "code",
   "execution_count": 16,
   "metadata": {},
   "outputs": [],
   "source": [
    "event_filepaths = np.sort(list(RAW_DATA_DIR.glob('*event.txt')))\n",
    "# [print(f) for f in event_filepaths];\n",
    "# [print(data_utils.extract_subject_id_condition_from_filepath(f)) for f in event_filepaths];"
   ]
  },
  {
   "cell_type": "code",
   "execution_count": 17,
   "metadata": {},
   "outputs": [
    {
     "name": "stderr",
     "output_type": "stream",
     "text": [
      "/Users/lukasspiess/anaconda3/envs/neuroprofile/lib/python3.10/site-packages/numpy/lib/nanfunctions.py:1879: RuntimeWarning: Degrees of freedom <= 0 for slice.\n",
      "  var = nanvar(a, axis=axis, dtype=dtype, out=out, ddof=ddof,\n"
     ]
    }
   ],
   "source": [
    "file_index = 0 # whether to process the first, second, third etc. recording\n",
    "\n",
    "# Preprocess the data, compute HRV metrics and save the output\n",
    "app.process_dyad(\n",
    "    ecg_filepath=ecg_filepaths[file_index],\n",
    "    event_filepath=event_filepaths[file_index],\n",
    "    parameters=params.base_params,\n",
    "    data_output_dir=PROCESSED_DATA_DIR,\n",
    "    figure_output_dir=QA_REPORTS_DIR,\n",
    "    create_qa_plots=True\n",
    ")"
   ]
  },
  {
   "cell_type": "markdown",
   "metadata": {},
   "source": [
    "### Example 2: Process all dyads\n",
    "\n",
    "**Below an example for how to process all dyads, one after another**.  \n",
    "Much of the preparations needed to process a single dyad is incorporated in the function `app.process_all_dyads()`. In addition, a log file is created in `~/`"
   ]
  },
  {
   "cell_type": "code",
   "execution_count": null,
   "metadata": {},
   "outputs": [],
   "source": [
    "app.process_all_dyads(\n",
    "    raw_data_dir=RAW_DATA_DIR,\n",
    "    processed_data_dir=PROCESSED_DATA_DIR,\n",
    "    reports_dir=QA_REPORTS_DIR,\n",
    ")"
   ]
  },
  {
   "cell_type": "code",
   "execution_count": null,
   "metadata": {},
   "outputs": [],
   "source": []
  },
  {
   "cell_type": "code",
   "execution_count": null,
   "metadata": {},
   "outputs": [],
   "source": []
  },
  {
   "cell_type": "code",
   "execution_count": null,
   "metadata": {},
   "outputs": [],
   "source": []
  },
  {
   "cell_type": "code",
   "execution_count": null,
   "metadata": {},
   "outputs": [],
   "source": []
  },
  {
   "cell_type": "code",
   "execution_count": null,
   "metadata": {},
   "outputs": [],
   "source": []
  },
  {
   "cell_type": "code",
   "execution_count": null,
   "metadata": {},
   "outputs": [],
   "source": []
  },
  {
   "cell_type": "code",
   "execution_count": null,
   "metadata": {},
   "outputs": [],
   "source": [
    "for index in range(len(ecg_filepaths)):\n",
    "    try:\n",
    "        dyad_number, condition, wave = data_utils.extract_subject_id_condition_from_filepath(ecg_filepaths[index])\n",
    "    except Exception as e:\n",
    "        print(f\"Error processing {ecg_filepaths[index]}: {e}\")\n",
    "        \n",
    "    print(f\"Processing recording {index+1}/{len(ecg_filepaths)}. Dyad number: {dyad_number}. Condition: {condition}. Wave: {wave}\")\n",
    "    nk_pipeline.process_dyad(\n",
    "        ecg_filepath = ecg_filepaths[index],\n",
    "        event_filepath = event_filepaths[index],\n",
    "        parameters=params.base_params,\n",
    "        data_output_dir=PROCESSED_DATA_DIR,\n",
    "        figure_output_dir=QA_REPORTS_DIR\n",
    "    );\n",
    "\n",
    "    gc.collect()"
   ]
  },
  {
   "cell_type": "code",
   "execution_count": null,
   "metadata": {},
   "outputs": [],
   "source": [
    "for index in range(len(ecg_filepaths)):\n",
    "    try:\n",
    "        dyad_number, condition, wave = data_utils.extract_subject_id_condition_from_filepath(ecg_filepaths[index])\n",
    "        print(f\"Processing recording {index+1}/{len(ecg_filepaths)}. Dyad number: {dyad_number}. Condition: {condition}. Wave: {wave}\")\n",
    "        nk_pipeline.process_dyad(\n",
    "            ecg_filepath = ecg_filepaths[index],\n",
    "            event_filepath = event_filepaths[index],\n",
    "            parameters=params.base_params,\n",
    "            data_output_dir=PROCESSED_DATA_DIR,\n",
    "            figure_output_dir=QA_REPORTS_DIR\n",
    "        );\n",
    "    except Exception as e:\n",
    "        print(f\"Error processing {ecg_filepaths[index]}: {e}\")\n",
    "    gc.collect()\n"
   ]
  },
  {
   "cell_type": "markdown",
   "metadata": {},
   "source": [
    "# DEBUG STUFF\n",
    "|    \n",
    "V    "
   ]
  },
  {
   "cell_type": "code",
   "execution_count": null,
   "metadata": {},
   "outputs": [],
   "source": [
    "event_filepaths[0]"
   ]
  },
  {
   "cell_type": "code",
   "execution_count": null,
   "metadata": {},
   "outputs": [],
   "source": [
    "ecg_filepaths[0]"
   ]
  },
  {
   "cell_type": "markdown",
   "metadata": {},
   "source": [
    "# Preprocess first"
   ]
  },
  {
   "cell_type": "code",
   "execution_count": null,
   "metadata": {},
   "outputs": [],
   "source": [
    "# Load and prepare\n",
    "signal_event_df = data_utils.load_dyad_ecg_events(ecg_filepaths[0], event_filepaths[0])\n",
    "dyad_parameters = params.configure_segmentation_params(1, params.base_params)\n",
    "child_params, mother_params = params.configure_ecg_params(1, dyad_parameters)\n",
    "child_series, mother_series = data_utils.split_in_child_mother_series(signal_event_df)\n",
    "\n",
    "# Preprocess ECG\n",
    "child_signals_df = nk_pipeline.ecg_preprocess(child_series, child_params)\n",
    "mother_signals_df = nk_pipeline.ecg_preprocess(mother_series, mother_params)\n",
    "\n",
    "# Join the preprocessed signals with the events\n",
    "child_signal_event_df = child_signals_df.merge(signal_event_df[[\"event\", \"event_description\"]], left_index=True, right_index=True, how = \"left\")\n",
    "mother_signal_event_df = mother_signals_df.merge(signal_event_df[[\"event\", \"event_description\"]], left_index=True, right_index=True, how = \"left\")"
   ]
  },
  {
   "cell_type": "code",
   "execution_count": null,
   "metadata": {},
   "outputs": [],
   "source": [
    "child_signal_event_df.head()"
   ]
  },
  {
   "cell_type": "markdown",
   "metadata": {},
   "source": [
    "## Then segment and analyze"
   ]
  },
  {
   "cell_type": "code",
   "execution_count": null,
   "metadata": {},
   "outputs": [],
   "source": [
    "# segment the dataframe\n",
    "child_segments_df_list = data_utils.segment_df(child_signal_event_df, dyad_parameters)\n",
    "mother_segments_df_list = data_utils.segment_df(mother_signal_event_df, dyad_parameters)"
   ]
  },
  {
   "cell_type": "code",
   "execution_count": null,
   "metadata": {},
   "outputs": [],
   "source": [
    "test_df = child_segments_df_list[0]\n",
    "test_df[test_df.ECG_R_Peaks == 1].index.diff().dropna()"
   ]
  },
  {
   "cell_type": "code",
   "execution_count": null,
   "metadata": {},
   "outputs": [],
   "source": []
  },
  {
   "cell_type": "code",
   "execution_count": null,
   "metadata": {},
   "outputs": [],
   "source": []
  },
  {
   "cell_type": "code",
   "execution_count": null,
   "metadata": {},
   "outputs": [],
   "source": []
  },
  {
   "cell_type": "code",
   "execution_count": null,
   "metadata": {},
   "outputs": [],
   "source": []
  }
 ],
 "metadata": {
  "kernelspec": {
   "display_name": "neuroprofile",
   "language": "python",
   "name": "python3"
  },
  "language_info": {
   "codemirror_mode": {
    "name": "ipython",
    "version": 3
   },
   "file_extension": ".py",
   "mimetype": "text/x-python",
   "name": "python",
   "nbconvert_exporter": "python",
   "pygments_lexer": "ipython3",
   "version": "3.10.14"
  }
 },
 "nbformat": 4,
 "nbformat_minor": 2
}
