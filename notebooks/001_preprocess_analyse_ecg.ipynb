{
 "cells": [
  {
   "cell_type": "markdown",
   "metadata": {},
   "source": [
    "# 001 Preprocess and analyse ECG\n",
    "\n",
    "### Purpose\n",
    "Purpose of this notebook is to preprocess the raw ECG data for the 'We Love Reading' study.\n",
    "\n",
    "- Neurokit2 package with a custom pipeline will be used for preprocessing\n",
    "- Segmentation is performed afterwards\n",
    "- QA figures will be exported for every partipant\n",
    "- The processed signal data will be exported\n",
    "- HRV metrics are computed and exported\n",
    "\n",
    "\n",
    "### Input / Output\n",
    "- Input: `~/data/raw`\n",
    "- Outputs:\n",
    "  - QA visualizations: `~/reports/ECG QA`\n",
    "  - Processed signal data and HRV metrics: `~/data/processed`\n",
    "  \n",
    "**Note**:\n",
    "- Output folders are created if they do not exist\n"
   ]
  },
  {
   "cell_type": "markdown",
   "metadata": {},
   "source": [
    "### Imports"
   ]
  },
  {
   "cell_type": "code",
   "execution_count": 1,
   "metadata": {},
   "outputs": [],
   "source": [
    "\n",
    "# fmt: off\n",
    "from pathlib import Path\n",
    "import numpy as np\n",
    "import importlib\n",
    "import nk_pipeline\n",
    "import neurokit2 as nk\n",
    "import parameters as params\n",
    "import common\n",
    "import data_utils\n",
    "importlib.reload(nk)\n",
    "importlib.reload(nk_pipeline)\n",
    "importlib.reload(params)\n",
    "importlib.reload(data_utils)\n",
    "importlib.reload(common)\n",
    "import warnings\n",
    "import matplotlib.pyplot as plt\n",
    "plt.ioff()  # Turn off interactive mode\n",
    "import gc\n",
    "# fmt:on\n"
   ]
  },
  {
   "cell_type": "markdown",
   "metadata": {},
   "source": [
    "## Parameters"
   ]
  },
  {
   "cell_type": "markdown",
   "metadata": {},
   "source": [
    "#### IO"
   ]
  },
  {
   "cell_type": "code",
   "execution_count": 2,
   "metadata": {},
   "outputs": [],
   "source": [
    "WORKING_DIR = Path().cwd()\n",
    "ROOT_DIR = WORKING_DIR.parent\n",
    "DATA_DIR = ROOT_DIR / 'data'\n",
    "RAW_DATA_DIR = DATA_DIR / 'raw'\n",
    "PROCESSED_DATA_DIR = DATA_DIR / 'processed'\n",
    "PROCESSED_DATA_DIR.mkdir(parents=False, exist_ok=True)\n",
    "REPORTS_DIR = ROOT_DIR / 'reports'\n",
    "REPORTS_DIR.mkdir(parents=False, exist_ok=True) \n",
    "QA_REPORTS_DIR = REPORTS_DIR / 'QA'\n",
    "QA_REPORTS_DIR.mkdir(parents=False, exist_ok=True) "
   ]
  },
  {
   "cell_type": "markdown",
   "metadata": {},
   "source": [
    "## Support Functions"
   ]
  },
  {
   "cell_type": "code",
   "execution_count": null,
   "metadata": {},
   "outputs": [],
   "source": []
  },
  {
   "cell_type": "markdown",
   "metadata": {},
   "source": [
    "# Prepare Data"
   ]
  },
  {
   "cell_type": "markdown",
   "metadata": {},
   "source": [
    "## Filepaths"
   ]
  },
  {
   "cell_type": "markdown",
   "metadata": {},
   "source": [
    "ECG"
   ]
  },
  {
   "cell_type": "code",
   "execution_count": 3,
   "metadata": {},
   "outputs": [],
   "source": [
    "ecg_filepaths = np.sort(list(RAW_DATA_DIR.glob('*mc.txt')))\n",
    "# [print(f) for f in ecg_filepaths];\n",
    "# [print(data_utils.extract_subject_id_condition_from_filepath(f)) for f in ecg_filepaths];"
   ]
  },
  {
   "cell_type": "markdown",
   "metadata": {},
   "source": [
    "Events"
   ]
  },
  {
   "cell_type": "code",
   "execution_count": 4,
   "metadata": {},
   "outputs": [],
   "source": [
    "event_filepaths = np.sort(list(RAW_DATA_DIR.glob('*event.txt')))\n",
    "# [print(f) for f in event_filepaths];\n",
    "# [print(data_utils.extract_subject_id_condition_from_filepath(f)) for f in event_filepaths];"
   ]
  },
  {
   "cell_type": "markdown",
   "metadata": {},
   "source": [
    "# Apply the pipeline\n",
    "\n",
    "- Make sure that the order of the ECG and Event files match.\n",
    "\n",
    "**ToDo**\n",
    "- Improve reading/checking ECG and Event files to make sure they match"
   ]
  },
  {
   "cell_type": "code",
   "execution_count": 5,
   "metadata": {},
   "outputs": [
    {
     "name": "stdout",
     "output_type": "stream",
     "text": [
      "Processing recording 1/177. Dyad number: 1. Condition: B. Wave: W2\n",
      "Processing recording 2/177. Dyad number: 1. Condition: B. Wave: W3\n",
      "Processing recording 3/177. Dyad number: 2. Condition: B. Wave: W2\n",
      "Processing recording 4/177. Dyad number: 2. Condition: B. Wave: W3\n",
      "Processing recording 5/177. Dyad number: 3. Condition: B. Wave: W2\n",
      "Processing recording 6/177. Dyad number: 3. Condition: B. Wave: W3\n",
      "Processing recording 7/177. Dyad number: 4. Condition: B. Wave: w1\n",
      "Error processing /Users/lukasspiess/Library/CloudStorage/OneDrive-SpiessSolution/Documents - We Love Reading/Welcome/data/raw/B04_w1_mc.txt: Found 3 rows in df for event: Book start\n",
      "Processing recording 8/177. Dyad number: 5. Condition: B. Wave: W2\n",
      "Processing recording 9/177. Dyad number: 5. Condition: B. Wave: W3\n",
      "Processing recording 10/177. Dyad number: 5. Condition: B. Wave: w1\n",
      "Processing recording 11/177. Dyad number: 8. Condition: B. Wave: W3\n",
      "Processing recording 12/177. Dyad number: 8. Condition: B. Wave: w1\n",
      "Processing recording 13/177. Dyad number: 9. Condition: B. Wave: W3\n",
      "Processing recording 14/177. Dyad number: 9. Condition: B. Wave: w1\n",
      "Processing recording 15/177. Dyad number: 10. Condition: B. Wave: W2\n",
      "Processing recording 16/177. Dyad number: 10. Condition: B. Wave: W3\n",
      "Processing recording 17/177. Dyad number: 10. Condition: B. Wave: w1\n",
      "Processing recording 18/177. Dyad number: 11. Condition: B. Wave: W2\n",
      "Processing recording 19/177. Dyad number: 11. Condition: B. Wave: w1\n",
      "Processing recording 20/177. Dyad number: 12. Condition: B. Wave: W2\n",
      "Processing recording 21/177. Dyad number: 12. Condition: B. Wave: W3\n",
      "Processing recording 22/177. Dyad number: 12. Condition: B. Wave: w1\n",
      "Processing recording 23/177. Dyad number: 13. Condition: B. Wave: w1\n",
      "Error processing /Users/lukasspiess/Library/CloudStorage/OneDrive-SpiessSolution/Documents - We Love Reading/Welcome/data/raw/B13_w1_mc.txt: Found 2 rows in df for event: Book start\n",
      "Processing recording 24/177. Dyad number: 14. Condition: B. Wave: W2\n",
      "Error processing /Users/lukasspiess/Library/CloudStorage/OneDrive-SpiessSolution/Documents - We Love Reading/Welcome/data/raw/B14_W2_mc.txt: Found 2 rows in df for event: Book start\n",
      "Processing recording 25/177. Dyad number: 14. Condition: B. Wave: W3\n",
      "Processing recording 26/177. Dyad number: 14. Condition: B. Wave: w1\n",
      "Processing recording 27/177. Dyad number: 16. Condition: B. Wave: W2\n",
      "Processing recording 28/177. Dyad number: 16. Condition: B. Wave: W3\n",
      "Processing recording 29/177. Dyad number: 16. Condition: B. Wave: w1\n",
      "Processing recording 30/177. Dyad number: 18. Condition: B. Wave: W2\n",
      "Processing recording 31/177. Dyad number: 18. Condition: B. Wave: w1\n",
      "Processing recording 32/177. Dyad number: 19. Condition: B. Wave: W2\n",
      "Processing recording 33/177. Dyad number: 19. Condition: B. Wave: W3\n",
      "Processing recording 34/177. Dyad number: 19. Condition: B. Wave: w1\n",
      "Error processing /Users/lukasspiess/Library/CloudStorage/OneDrive-SpiessSolution/Documents - We Love Reading/Welcome/data/raw/B19_w1_mc.txt: Found 2 rows in df for event: baseline resting start\n",
      "Processing recording 35/177. Dyad number: 20. Condition: B. Wave: W3\n",
      "Processing recording 36/177. Dyad number: 20. Condition: B. Wave: w1\n",
      "Processing recording 37/177. Dyad number: 23. Condition: B. Wave: w1\n",
      "Processing recording 38/177. Dyad number: 24. Condition: B. Wave: w1\n",
      "Processing recording 39/177. Dyad number: 25. Condition: B. Wave: W2\n",
      "Processing recording 40/177. Dyad number: 25. Condition: B. Wave: W3\n",
      "Processing recording 41/177. Dyad number: 25. Condition: B. Wave: w1\n",
      "Processing recording 42/177. Dyad number: 27. Condition: B. Wave: W2\n",
      "Processing recording 43/177. Dyad number: 27. Condition: B. Wave: W3\n",
      "Processing recording 44/177. Dyad number: 27. Condition: B. Wave: w1\n",
      "Processing recording 45/177. Dyad number: 28. Condition: B. Wave: W2\n",
      "Processing recording 46/177. Dyad number: 28. Condition: B. Wave: W3\n",
      "Error processing /Users/lukasspiess/Library/CloudStorage/OneDrive-SpiessSolution/Documents - We Love Reading/Welcome/data/raw/B28_W3_mc.txt: Found 0 rows in df for event: baseline resting start\n",
      "Processing recording 47/177. Dyad number: 28. Condition: B. Wave: w1\n",
      "Processing recording 48/177. Dyad number: 30. Condition: B. Wave: W2\n",
      "Processing recording 49/177. Dyad number: 30. Condition: B. Wave: w1\n",
      "Processing recording 50/177. Dyad number: 31. Condition: B. Wave: w1\n",
      "Processing recording 51/177. Dyad number: 32. Condition: B. Wave: W2\n",
      "Processing recording 52/177. Dyad number: 32. Condition: B. Wave: w1\n",
      "Processing recording 53/177. Dyad number: 34. Condition: B. Wave: w1\n",
      "Processing recording 54/177. Dyad number: 35. Condition: B. Wave: W2\n",
      "Processing recording 55/177. Dyad number: 35. Condition: B. Wave: w1\n",
      "Processing recording 56/177. Dyad number: 38. Condition: B. Wave: w1\n",
      "Error processing /Users/lukasspiess/Library/CloudStorage/OneDrive-SpiessSolution/Documents - We Love Reading/Welcome/data/raw/B38_w1_mc.txt: Found 0 rows in df for event: Book start\n",
      "Processing recording 57/177. Dyad number: 40. Condition: B. Wave: W2\n",
      "Processing recording 58/177. Dyad number: 40. Condition: B. Wave: W3\n",
      "Processing recording 59/177. Dyad number: 41. Condition: B. Wave: W2\n",
      "Processing recording 60/177. Dyad number: 41. Condition: B. Wave: W3\n",
      "Processing recording 61/177. Dyad number: 41. Condition: B. Wave: w1\n",
      "Processing recording 62/177. Dyad number: 45. Condition: B. Wave: W2\n",
      "Processing recording 63/177. Dyad number: 45. Condition: B. Wave: W3\n",
      "Processing recording 64/177. Dyad number: 45. Condition: B. Wave: w1\n",
      "Processing recording 65/177. Dyad number: 1. Condition: C. Wave: W2\n",
      "Processing recording 66/177. Dyad number: 1. Condition: C. Wave: W3\n",
      "Processing recording 67/177. Dyad number: 2. Condition: C. Wave: w1\n",
      "Processing recording 68/177. Dyad number: 3. Condition: C. Wave: W2\n",
      "Processing recording 69/177. Dyad number: 6. Condition: C. Wave: W2\n",
      "Processing recording 70/177. Dyad number: 6. Condition: C. Wave: W3\n",
      "Processing recording 71/177. Dyad number: 6. Condition: C. Wave: w1\n",
      "Processing recording 72/177. Dyad number: 7. Condition: C. Wave: w1\n",
      "Error processing /Users/lukasspiess/Library/CloudStorage/OneDrive-SpiessSolution/Documents - We Love Reading/Welcome/data/raw/C07_w1_mc.txt: Found 2 rows in df for event: Book start\n",
      "Processing recording 73/177. Dyad number: 8. Condition: C. Wave: W2\n",
      "Processing recording 74/177. Dyad number: 8. Condition: C. Wave: W3\n",
      "Processing recording 75/177. Dyad number: 8. Condition: C. Wave: w1\n",
      "Processing recording 76/177. Dyad number: 9. Condition: C. Wave: W2\n",
      "Processing recording 77/177. Dyad number: 9. Condition: C. Wave: W3\n",
      "Processing recording 78/177. Dyad number: 9. Condition: C. Wave: w1\n",
      "Processing recording 79/177. Dyad number: 12. Condition: C. Wave: W2\n",
      "Processing recording 80/177. Dyad number: 12. Condition: C. Wave: W3\n",
      "Processing recording 81/177. Dyad number: 12. Condition: C. Wave: w1\n",
      "Processing recording 82/177. Dyad number: 13. Condition: C. Wave: W2\n",
      "Processing recording 83/177. Dyad number: 13. Condition: C. Wave: W3\n",
      "Processing recording 84/177. Dyad number: 13. Condition: C. Wave: w1\n",
      "Processing recording 85/177. Dyad number: 14. Condition: C. Wave: w1\n",
      "Processing recording 86/177. Dyad number: 15. Condition: C. Wave: W2\n",
      "Processing recording 87/177. Dyad number: 15. Condition: C. Wave: W3\n",
      "Processing recording 88/177. Dyad number: 15. Condition: C. Wave: w1\n",
      "Processing recording 89/177. Dyad number: 16. Condition: C. Wave: W2\n",
      "Processing recording 90/177. Dyad number: 16. Condition: C. Wave: W3\n",
      "Processing recording 91/177. Dyad number: 16. Condition: C. Wave: w1\n",
      "Processing recording 92/177. Dyad number: 17. Condition: C. Wave: W2\n",
      "Processing recording 93/177. Dyad number: 17. Condition: C. Wave: W3\n",
      "Processing recording 94/177. Dyad number: 17. Condition: C. Wave: w1\n",
      "Error processing /Users/lukasspiess/Library/CloudStorage/OneDrive-SpiessSolution/Documents - We Love Reading/Welcome/data/raw/C17_w1_mc.txt: Found 5 rows in df for event: Book start\n",
      "Processing recording 95/177. Dyad number: 18. Condition: C. Wave: W2\n",
      "Processing recording 96/177. Dyad number: 18. Condition: C. Wave: W3\n",
      "Processing recording 97/177. Dyad number: 18. Condition: C. Wave: w1\n",
      "Processing recording 98/177. Dyad number: 21. Condition: C. Wave: W2\n",
      "Processing recording 99/177. Dyad number: 21. Condition: C. Wave: W3\n",
      "Processing recording 100/177. Dyad number: 21. Condition: C. Wave: w1\n",
      "Processing recording 101/177. Dyad number: 25. Condition: C. Wave: W2\n",
      "Processing recording 102/177. Dyad number: 26. Condition: C. Wave: W2\n",
      "Processing recording 103/177. Dyad number: 26. Condition: C. Wave: W3\n",
      "Processing recording 104/177. Dyad number: 26. Condition: C. Wave: w1\n",
      "Processing recording 105/177. Dyad number: 27. Condition: C. Wave: W2\n",
      "Processing recording 106/177. Dyad number: 27. Condition: C. Wave: W3\n",
      "Processing recording 107/177. Dyad number: 27. Condition: C. Wave: w1\n"
     ]
    },
    {
     "ename": "KeyboardInterrupt",
     "evalue": "",
     "output_type": "error",
     "traceback": [
      "\u001b[0;31m---------------------------------------------------------------------------\u001b[0m",
      "\u001b[0;31mKeyboardInterrupt\u001b[0m                         Traceback (most recent call last)",
      "Cell \u001b[0;32mIn[5], line 5\u001b[0m\n\u001b[1;32m      3\u001b[0m     dyad_number, condition, wave \u001b[38;5;241m=\u001b[39m data_utils\u001b[38;5;241m.\u001b[39mextract_subject_id_condition_from_filepath(ecg_filepaths[index])\n\u001b[1;32m      4\u001b[0m     \u001b[38;5;28mprint\u001b[39m(\u001b[38;5;124mf\u001b[39m\u001b[38;5;124m\"\u001b[39m\u001b[38;5;124mProcessing recording \u001b[39m\u001b[38;5;132;01m{\u001b[39;00mindex\u001b[38;5;241m+\u001b[39m\u001b[38;5;241m1\u001b[39m\u001b[38;5;132;01m}\u001b[39;00m\u001b[38;5;124m/\u001b[39m\u001b[38;5;132;01m{\u001b[39;00m\u001b[38;5;28mlen\u001b[39m(ecg_filepaths)\u001b[38;5;132;01m}\u001b[39;00m\u001b[38;5;124m. Dyad number: \u001b[39m\u001b[38;5;132;01m{\u001b[39;00mdyad_number\u001b[38;5;132;01m}\u001b[39;00m\u001b[38;5;124m. Condition: \u001b[39m\u001b[38;5;132;01m{\u001b[39;00mcondition\u001b[38;5;132;01m}\u001b[39;00m\u001b[38;5;124m. Wave: \u001b[39m\u001b[38;5;132;01m{\u001b[39;00mwave\u001b[38;5;132;01m}\u001b[39;00m\u001b[38;5;124m\"\u001b[39m)\n\u001b[0;32m----> 5\u001b[0m     \u001b[43mnk_pipeline\u001b[49m\u001b[38;5;241;43m.\u001b[39;49m\u001b[43mprocess_dyad\u001b[49m\u001b[43m(\u001b[49m\n\u001b[1;32m      6\u001b[0m \u001b[43m        \u001b[49m\u001b[43mecg_filepath\u001b[49m\u001b[43m \u001b[49m\u001b[38;5;241;43m=\u001b[39;49m\u001b[43m \u001b[49m\u001b[43mecg_filepaths\u001b[49m\u001b[43m[\u001b[49m\u001b[43mindex\u001b[49m\u001b[43m]\u001b[49m\u001b[43m,\u001b[49m\n\u001b[1;32m      7\u001b[0m \u001b[43m        \u001b[49m\u001b[43mevent_filepath\u001b[49m\u001b[43m \u001b[49m\u001b[38;5;241;43m=\u001b[39;49m\u001b[43m \u001b[49m\u001b[43mevent_filepaths\u001b[49m\u001b[43m[\u001b[49m\u001b[43mindex\u001b[49m\u001b[43m]\u001b[49m\u001b[43m,\u001b[49m\n\u001b[1;32m      8\u001b[0m \u001b[43m        \u001b[49m\u001b[43mparameters\u001b[49m\u001b[38;5;241;43m=\u001b[39;49m\u001b[43mparams\u001b[49m\u001b[38;5;241;43m.\u001b[39;49m\u001b[43mbase_params\u001b[49m\u001b[43m,\u001b[49m\n\u001b[1;32m      9\u001b[0m \u001b[43m        \u001b[49m\u001b[43mdata_output_dir\u001b[49m\u001b[38;5;241;43m=\u001b[39;49m\u001b[43mPROCESSED_DATA_DIR\u001b[49m\u001b[43m,\u001b[49m\n\u001b[1;32m     10\u001b[0m \u001b[43m        \u001b[49m\u001b[43mfigure_output_dir\u001b[49m\u001b[38;5;241;43m=\u001b[39;49m\u001b[43mQA_REPORTS_DIR\u001b[49m\n\u001b[1;32m     11\u001b[0m \u001b[43m    \u001b[49m\u001b[43m)\u001b[49m;\n\u001b[1;32m     12\u001b[0m \u001b[38;5;28;01mexcept\u001b[39;00m \u001b[38;5;167;01mException\u001b[39;00m \u001b[38;5;28;01mas\u001b[39;00m e:\n\u001b[1;32m     13\u001b[0m     \u001b[38;5;28mprint\u001b[39m(\u001b[38;5;124mf\u001b[39m\u001b[38;5;124m\"\u001b[39m\u001b[38;5;124mError processing \u001b[39m\u001b[38;5;132;01m{\u001b[39;00mecg_filepaths[index]\u001b[38;5;132;01m}\u001b[39;00m\u001b[38;5;124m: \u001b[39m\u001b[38;5;132;01m{\u001b[39;00me\u001b[38;5;132;01m}\u001b[39;00m\u001b[38;5;124m\"\u001b[39m)\n",
      "File \u001b[0;32m~/Library/CloudStorage/OneDrive-SpiessSolution/Documents - We Love Reading/Welcome/notebooks/nk_pipeline.py:81\u001b[0m, in \u001b[0;36mprocess_dyad\u001b[0;34m(ecg_filepath, event_filepath, parameters, data_output_dir, figure_output_dir)\u001b[0m\n\u001b[1;32m     79\u001b[0m \u001b[38;5;66;03m# Preprocess ECG data\u001b[39;00m\n\u001b[1;32m     80\u001b[0m child_signals_df \u001b[38;5;241m=\u001b[39m ecg_preprocess(child_series, child_params)\n\u001b[0;32m---> 81\u001b[0m mother_signals_df \u001b[38;5;241m=\u001b[39m \u001b[43mecg_preprocess\u001b[49m\u001b[43m(\u001b[49m\u001b[43mmother_series\u001b[49m\u001b[43m,\u001b[49m\u001b[43m \u001b[49m\u001b[43mmother_params\u001b[49m\u001b[43m)\u001b[49m\n\u001b[1;32m     83\u001b[0m \u001b[38;5;66;03m# Join the preprocessed signals with the events\u001b[39;00m\n\u001b[1;32m     84\u001b[0m child_signal_event_df \u001b[38;5;241m=\u001b[39m child_signals_df\u001b[38;5;241m.\u001b[39mmerge(signal_event_df[[\u001b[38;5;124m\"\u001b[39m\u001b[38;5;124mevent\u001b[39m\u001b[38;5;124m\"\u001b[39m, \u001b[38;5;124m\"\u001b[39m\u001b[38;5;124mevent_description\u001b[39m\u001b[38;5;124m\"\u001b[39m]], left_index\u001b[38;5;241m=\u001b[39m\u001b[38;5;28;01mTrue\u001b[39;00m, right_index\u001b[38;5;241m=\u001b[39m\u001b[38;5;28;01mTrue\u001b[39;00m, how \u001b[38;5;241m=\u001b[39m \u001b[38;5;124m\"\u001b[39m\u001b[38;5;124mleft\u001b[39m\u001b[38;5;124m\"\u001b[39m)\n",
      "File \u001b[0;32m~/Library/CloudStorage/OneDrive-SpiessSolution/Documents - We Love Reading/Welcome/notebooks/nk_pipeline.py:460\u001b[0m, in \u001b[0;36mecg_preprocess\u001b[0;34m(raw_ecg_series, parameters)\u001b[0m\n\u001b[1;32m    458\u001b[0m ecg_cleaned_series \u001b[38;5;241m=\u001b[39m clean_ecg(raw_ecg_series, parameters)\n\u001b[1;32m    459\u001b[0m peak_df, rpeaks \u001b[38;5;241m=\u001b[39m find_peaks(ecg_cleaned_series, parameters)\n\u001b[0;32m--> 460\u001b[0m signal_quality \u001b[38;5;241m=\u001b[39m \u001b[43mcalculate_signal_quality\u001b[49m\u001b[43m(\u001b[49m\u001b[43mecg_cleaned_series\u001b[49m\u001b[43m,\u001b[49m\u001b[43m \u001b[49m\u001b[43mrpeaks\u001b[49m\u001b[43m[\u001b[49m\u001b[38;5;124;43m'\u001b[39;49m\u001b[38;5;124;43mECG_R_Peaks\u001b[39;49m\u001b[38;5;124;43m'\u001b[39;49m\u001b[43m]\u001b[49m\u001b[43m,\u001b[49m\u001b[43m \u001b[49m\u001b[43mparameters\u001b[49m\u001b[43m)\u001b[49m\n\u001b[1;32m    462\u001b[0m \u001b[38;5;66;03m# Create a composite dataframe containing the entire signal and peak information\u001b[39;00m\n\u001b[1;32m    463\u001b[0m signals_df \u001b[38;5;241m=\u001b[39m pd\u001b[38;5;241m.\u001b[39mconcat([\n\u001b[1;32m    464\u001b[0m         ecg_cleaned_series\u001b[38;5;241m.\u001b[39mto_frame(),\n\u001b[1;32m    465\u001b[0m         raw_ecg_series\u001b[38;5;241m.\u001b[39mto_frame(),\n\u001b[1;32m    466\u001b[0m         peak_df\n\u001b[1;32m    467\u001b[0m     ], axis\u001b[38;5;241m=\u001b[39m\u001b[38;5;241m1\u001b[39m)\n",
      "File \u001b[0;32m~/Library/CloudStorage/OneDrive-SpiessSolution/Documents - We Love Reading/Welcome/notebooks/nk_pipeline.py:254\u001b[0m, in \u001b[0;36mcalculate_signal_quality\u001b[0;34m(ecg_cleaned_series, rpeaks, parameters)\u001b[0m\n\u001b[1;32m    229\u001b[0m \u001b[38;5;28;01mdef\u001b[39;00m \u001b[38;5;21mcalculate_signal_quality\u001b[39m(ecg_cleaned_series: pd\u001b[38;5;241m.\u001b[39mSeries, rpeaks: Optional[Union[Tuple, List]], parameters: Dict) \u001b[38;5;241m-\u001b[39m\u001b[38;5;241m>\u001b[39m Union[np\u001b[38;5;241m.\u001b[39marray, \u001b[38;5;28mstr\u001b[39m]:\n\u001b[1;32m    230\u001b[0m \u001b[38;5;250m    \u001b[39m\u001b[38;5;124;03m\"\"\"\u001b[39;00m\n\u001b[1;32m    231\u001b[0m \u001b[38;5;124;03m    Calculates the quality of the ECG signal using NeuroKit2's `ecg_quality` function based on the provided parameters.\u001b[39;00m\n\u001b[1;32m    232\u001b[0m \n\u001b[0;32m   (...)\u001b[0m\n\u001b[1;32m    252\u001b[0m \u001b[38;5;124;03m            - If the \"zhao2018\" method is used, returns a string classification of the signal quality: \"Unacceptable\", \"Barely acceptable\", or \"Excellent\".\u001b[39;00m\n\u001b[1;32m    253\u001b[0m \u001b[38;5;124;03m    \"\"\"\u001b[39;00m\n\u001b[0;32m--> 254\u001b[0m     signal_quality_array \u001b[38;5;241m=\u001b[39m \u001b[43mnk\u001b[49m\u001b[38;5;241;43m.\u001b[39;49m\u001b[43mecg_quality\u001b[49m\u001b[43m(\u001b[49m\n\u001b[1;32m    255\u001b[0m \u001b[43m        \u001b[49m\u001b[43mecg_cleaned\u001b[49m\u001b[38;5;241;43m=\u001b[39;49m\u001b[43mecg_cleaned_series\u001b[49m\u001b[43m,\u001b[49m\n\u001b[1;32m    256\u001b[0m \u001b[43m        \u001b[49m\u001b[43mrpeaks\u001b[49m\u001b[38;5;241;43m=\u001b[39;49m\u001b[43mrpeaks\u001b[49m\u001b[43m,\u001b[49m\n\u001b[1;32m    257\u001b[0m \u001b[43m        \u001b[49m\u001b[43msampling_rate\u001b[49m\u001b[38;5;241;43m=\u001b[39;49m\u001b[43mparameters\u001b[49m\u001b[43m[\u001b[49m\u001b[38;5;124;43m'\u001b[39;49m\u001b[38;5;124;43mgeneral\u001b[39;49m\u001b[38;5;124;43m'\u001b[39;49m\u001b[43m]\u001b[49m\u001b[38;5;241;43m.\u001b[39;49m\u001b[43mget\u001b[49m\u001b[43m(\u001b[49m\u001b[38;5;124;43m'\u001b[39;49m\u001b[38;5;124;43msampling_frequency\u001b[39;49m\u001b[38;5;124;43m'\u001b[39;49m\u001b[43m,\u001b[49m\u001b[43m \u001b[49m\u001b[38;5;241;43m500\u001b[39;49m\u001b[43m)\u001b[49m\u001b[43m,\u001b[49m\n\u001b[1;32m    258\u001b[0m \u001b[43m        \u001b[49m\u001b[43mmethod\u001b[49m\u001b[38;5;241;43m=\u001b[39;49m\u001b[43mparameters\u001b[49m\u001b[43m[\u001b[49m\u001b[38;5;124;43m'\u001b[39;49m\u001b[38;5;124;43msignal_quality_index\u001b[39;49m\u001b[38;5;124;43m'\u001b[39;49m\u001b[43m]\u001b[49m\u001b[38;5;241;43m.\u001b[39;49m\u001b[43mget\u001b[49m\u001b[43m(\u001b[49m\u001b[38;5;124;43m'\u001b[39;49m\u001b[38;5;124;43mmethod\u001b[39;49m\u001b[38;5;124;43m'\u001b[39;49m\u001b[43m,\u001b[49m\u001b[43m \u001b[49m\u001b[38;5;124;43m'\u001b[39;49m\u001b[38;5;124;43maverageQRS\u001b[39;49m\u001b[38;5;124;43m'\u001b[39;49m\u001b[43m)\u001b[49m\u001b[43m,\u001b[49m\n\u001b[1;32m    259\u001b[0m \u001b[43m        \u001b[49m\u001b[43mapproach\u001b[49m\u001b[38;5;241;43m=\u001b[39;49m\u001b[43mparameters\u001b[49m\u001b[43m[\u001b[49m\u001b[38;5;124;43m'\u001b[39;49m\u001b[38;5;124;43msignal_quality_index\u001b[39;49m\u001b[38;5;124;43m'\u001b[39;49m\u001b[43m]\u001b[49m\u001b[38;5;241;43m.\u001b[39;49m\u001b[43mget\u001b[49m\u001b[43m(\u001b[49m\u001b[38;5;124;43m'\u001b[39;49m\u001b[38;5;124;43mapproach\u001b[39;49m\u001b[38;5;124;43m'\u001b[39;49m\u001b[43m,\u001b[49m\u001b[43m \u001b[49m\u001b[38;5;124;43m'\u001b[39;49m\u001b[38;5;124;43msimple\u001b[39;49m\u001b[38;5;124;43m'\u001b[39;49m\u001b[43m)\u001b[49m\n\u001b[1;32m    260\u001b[0m \u001b[43m    \u001b[49m\u001b[43m)\u001b[49m\n\u001b[1;32m    262\u001b[0m     \u001b[38;5;28;01mreturn\u001b[39;00m signal_quality_array\n",
      "File \u001b[0;32m~/anaconda3/envs/neuroprofile/lib/python3.10/site-packages/neurokit2/ecg/ecg_quality.py:105\u001b[0m, in \u001b[0;36mecg_quality\u001b[0;34m(ecg_cleaned, rpeaks, sampling_rate, method, approach)\u001b[0m\n\u001b[1;32m    103\u001b[0m \u001b[38;5;66;03m# Run peak detection algorithm\u001b[39;00m\n\u001b[1;32m    104\u001b[0m \u001b[38;5;28;01mif\u001b[39;00m method \u001b[38;5;129;01min\u001b[39;00m [\u001b[38;5;124m\"\u001b[39m\u001b[38;5;124maverageqrs\u001b[39m\u001b[38;5;124m\"\u001b[39m]:\n\u001b[0;32m--> 105\u001b[0m     quality \u001b[38;5;241m=\u001b[39m \u001b[43m_ecg_quality_averageQRS\u001b[49m\u001b[43m(\u001b[49m\n\u001b[1;32m    106\u001b[0m \u001b[43m        \u001b[49m\u001b[43mecg_cleaned\u001b[49m\u001b[43m,\u001b[49m\u001b[43m \u001b[49m\u001b[43mrpeaks\u001b[49m\u001b[38;5;241;43m=\u001b[39;49m\u001b[43mrpeaks\u001b[49m\u001b[43m,\u001b[49m\u001b[43m \u001b[49m\u001b[43msampling_rate\u001b[49m\u001b[38;5;241;43m=\u001b[39;49m\u001b[43msampling_rate\u001b[49m\n\u001b[1;32m    107\u001b[0m \u001b[43m    \u001b[49m\u001b[43m)\u001b[49m\n\u001b[1;32m    108\u001b[0m \u001b[38;5;28;01melif\u001b[39;00m method \u001b[38;5;129;01min\u001b[39;00m [\u001b[38;5;124m\"\u001b[39m\u001b[38;5;124mzhao2018\u001b[39m\u001b[38;5;124m\"\u001b[39m, \u001b[38;5;124m\"\u001b[39m\u001b[38;5;124mzhao\u001b[39m\u001b[38;5;124m\"\u001b[39m, \u001b[38;5;124m\"\u001b[39m\u001b[38;5;124mSQI\u001b[39m\u001b[38;5;124m\"\u001b[39m]:\n\u001b[1;32m    109\u001b[0m     \u001b[38;5;28;01mif\u001b[39;00m approach \u001b[38;5;129;01mis\u001b[39;00m \u001b[38;5;28;01mNone\u001b[39;00m:\n",
      "File \u001b[0;32m~/anaconda3/envs/neuroprofile/lib/python3.10/site-packages/neurokit2/ecg/ecg_quality.py:136\u001b[0m, in \u001b[0;36m_ecg_quality_averageQRS\u001b[0;34m(ecg_cleaned, rpeaks, sampling_rate)\u001b[0m\n\u001b[1;32m    133\u001b[0m     rpeaks \u001b[38;5;241m=\u001b[39m rpeaks[\u001b[38;5;124m\"\u001b[39m\u001b[38;5;124mECG_R_Peaks\u001b[39m\u001b[38;5;124m\"\u001b[39m]\n\u001b[1;32m    135\u001b[0m \u001b[38;5;66;03m# Get heartbeats\u001b[39;00m\n\u001b[0;32m--> 136\u001b[0m heartbeats \u001b[38;5;241m=\u001b[39m \u001b[43mecg_segment\u001b[49m\u001b[43m(\u001b[49m\u001b[43mecg_cleaned\u001b[49m\u001b[43m,\u001b[49m\u001b[43m \u001b[49m\u001b[43mrpeaks\u001b[49m\u001b[43m,\u001b[49m\u001b[43m \u001b[49m\u001b[43msampling_rate\u001b[49m\u001b[43m)\u001b[49m\n\u001b[1;32m    137\u001b[0m data \u001b[38;5;241m=\u001b[39m epochs_to_df(heartbeats)\u001b[38;5;241m.\u001b[39mpivot(\n\u001b[1;32m    138\u001b[0m     index\u001b[38;5;241m=\u001b[39m\u001b[38;5;124m\"\u001b[39m\u001b[38;5;124mLabel\u001b[39m\u001b[38;5;124m\"\u001b[39m, columns\u001b[38;5;241m=\u001b[39m\u001b[38;5;124m\"\u001b[39m\u001b[38;5;124mTime\u001b[39m\u001b[38;5;124m\"\u001b[39m, values\u001b[38;5;241m=\u001b[39m\u001b[38;5;124m\"\u001b[39m\u001b[38;5;124mSignal\u001b[39m\u001b[38;5;124m\"\u001b[39m\n\u001b[1;32m    139\u001b[0m )\n\u001b[1;32m    140\u001b[0m data\u001b[38;5;241m.\u001b[39mindex \u001b[38;5;241m=\u001b[39m data\u001b[38;5;241m.\u001b[39mindex\u001b[38;5;241m.\u001b[39mastype(\u001b[38;5;28mint\u001b[39m)\n",
      "File \u001b[0;32m~/anaconda3/envs/neuroprofile/lib/python3.10/site-packages/neurokit2/ecg/ecg_segment.py:64\u001b[0m, in \u001b[0;36mecg_segment\u001b[0;34m(ecg_cleaned, rpeaks, sampling_rate, show, **kwargs)\u001b[0m\n\u001b[1;32m     59\u001b[0m     \u001b[38;5;28;01mraise\u001b[39;00m \u001b[38;5;167;01mValueError\u001b[39;00m(\u001b[38;5;124m\"\u001b[39m\u001b[38;5;124mThe data length is too small to be segmented.\u001b[39m\u001b[38;5;124m\"\u001b[39m)\n\u001b[1;32m     61\u001b[0m epochs_start, epochs_end, average_hr \u001b[38;5;241m=\u001b[39m _ecg_segment_window(\n\u001b[1;32m     62\u001b[0m     rpeaks\u001b[38;5;241m=\u001b[39mrpeaks, sampling_rate\u001b[38;5;241m=\u001b[39msampling_rate, desired_length\u001b[38;5;241m=\u001b[39m\u001b[38;5;28mlen\u001b[39m(ecg_cleaned)\n\u001b[1;32m     63\u001b[0m )\n\u001b[0;32m---> 64\u001b[0m heartbeats \u001b[38;5;241m=\u001b[39m \u001b[43mepochs_create\u001b[49m\u001b[43m(\u001b[49m\n\u001b[1;32m     65\u001b[0m \u001b[43m    \u001b[49m\u001b[43mecg_cleaned\u001b[49m\u001b[43m,\u001b[49m\n\u001b[1;32m     66\u001b[0m \u001b[43m    \u001b[49m\u001b[43mrpeaks\u001b[49m\u001b[43m,\u001b[49m\n\u001b[1;32m     67\u001b[0m \u001b[43m    \u001b[49m\u001b[43msampling_rate\u001b[49m\u001b[38;5;241;43m=\u001b[39;49m\u001b[43msampling_rate\u001b[49m\u001b[43m,\u001b[49m\n\u001b[1;32m     68\u001b[0m \u001b[43m    \u001b[49m\u001b[43mepochs_start\u001b[49m\u001b[38;5;241;43m=\u001b[39;49m\u001b[43mepochs_start\u001b[49m\u001b[43m,\u001b[49m\n\u001b[1;32m     69\u001b[0m \u001b[43m    \u001b[49m\u001b[43mepochs_end\u001b[49m\u001b[38;5;241;43m=\u001b[39;49m\u001b[43mepochs_end\u001b[49m\u001b[43m,\u001b[49m\n\u001b[1;32m     70\u001b[0m \u001b[43m\u001b[49m\u001b[43m)\u001b[49m\n\u001b[1;32m     72\u001b[0m \u001b[38;5;66;03m# Pad last heartbeats with nan so that segments are equal length\u001b[39;00m\n\u001b[1;32m     73\u001b[0m last_heartbeat_key \u001b[38;5;241m=\u001b[39m \u001b[38;5;28mstr\u001b[39m(np\u001b[38;5;241m.\u001b[39mmax(np\u001b[38;5;241m.\u001b[39marray(\u001b[38;5;28mlist\u001b[39m(heartbeats\u001b[38;5;241m.\u001b[39mkeys()), dtype\u001b[38;5;241m=\u001b[39m\u001b[38;5;28mint\u001b[39m)))\n",
      "File \u001b[0;32m~/anaconda3/envs/neuroprofile/lib/python3.10/site-packages/neurokit2/epochs/epochs_create.py:210\u001b[0m, in \u001b[0;36mepochs_create\u001b[0;34m(data, events, sampling_rate, epochs_start, epochs_end, event_labels, event_conditions, baseline_correction)\u001b[0m\n\u001b[1;32m    207\u001b[0m \u001b[38;5;28;01mfor\u001b[39;00m i \u001b[38;5;129;01min\u001b[39;00m epochs:\n\u001b[1;32m    208\u001b[0m     \u001b[38;5;28;01mfor\u001b[39;00m colname, column \u001b[38;5;129;01min\u001b[39;00m epochs[i]\u001b[38;5;241m.\u001b[39mselect_dtypes(include\u001b[38;5;241m=\u001b[39m[\u001b[38;5;124m\"\u001b[39m\u001b[38;5;124mobject\u001b[39m\u001b[38;5;124m\"\u001b[39m])\u001b[38;5;241m.\u001b[39mitems():\n\u001b[1;32m    209\u001b[0m         \u001b[38;5;66;03m# Check whether columns are indices or label/condition\u001b[39;00m\n\u001b[0;32m--> 210\u001b[0m         values \u001b[38;5;241m=\u001b[39m \u001b[43mcolumn\u001b[49m\u001b[38;5;241;43m.\u001b[39;49m\u001b[43munique\u001b[49m\u001b[43m(\u001b[49m\u001b[43m)\u001b[49m\u001b[38;5;241m.\u001b[39mtolist()\n\u001b[1;32m    211\u001b[0m         zero_or_one \u001b[38;5;241m=\u001b[39m \u001b[38;5;129;01mnot\u001b[39;00m (\u001b[38;5;28;01mFalse\u001b[39;00m \u001b[38;5;129;01min\u001b[39;00m [x \u001b[38;5;129;01min\u001b[39;00m [\u001b[38;5;241m0\u001b[39m, \u001b[38;5;241m1\u001b[39m] \u001b[38;5;28;01mfor\u001b[39;00m x \u001b[38;5;129;01min\u001b[39;00m values])\n\u001b[1;32m    213\u001b[0m         \u001b[38;5;28;01mif\u001b[39;00m zero_or_one:\n\u001b[1;32m    214\u001b[0m             \u001b[38;5;66;03m# Force to int64\u001b[39;00m\n",
      "File \u001b[0;32m~/anaconda3/envs/neuroprofile/lib/python3.10/site-packages/pandas/core/series.py:2407\u001b[0m, in \u001b[0;36mSeries.unique\u001b[0;34m(self)\u001b[0m\n\u001b[1;32m   2344\u001b[0m \u001b[38;5;28;01mdef\u001b[39;00m \u001b[38;5;21munique\u001b[39m(\u001b[38;5;28mself\u001b[39m) \u001b[38;5;241m-\u001b[39m\u001b[38;5;241m>\u001b[39m ArrayLike:  \u001b[38;5;66;03m# pylint: disable=useless-parent-delegation\u001b[39;00m\n\u001b[1;32m   2345\u001b[0m \u001b[38;5;250m    \u001b[39m\u001b[38;5;124;03m\"\"\"\u001b[39;00m\n\u001b[1;32m   2346\u001b[0m \u001b[38;5;124;03m    Return unique values of Series object.\u001b[39;00m\n\u001b[1;32m   2347\u001b[0m \n\u001b[0;32m   (...)\u001b[0m\n\u001b[1;32m   2405\u001b[0m \u001b[38;5;124;03m    Categories (3, object): ['a' < 'b' < 'c']\u001b[39;00m\n\u001b[1;32m   2406\u001b[0m \u001b[38;5;124;03m    \"\"\"\u001b[39;00m\n\u001b[0;32m-> 2407\u001b[0m     \u001b[38;5;28;01mreturn\u001b[39;00m \u001b[38;5;28;43msuper\u001b[39;49m\u001b[43m(\u001b[49m\u001b[43m)\u001b[49m\u001b[38;5;241;43m.\u001b[39;49m\u001b[43munique\u001b[49m\u001b[43m(\u001b[49m\u001b[43m)\u001b[49m\n",
      "File \u001b[0;32m~/anaconda3/envs/neuroprofile/lib/python3.10/site-packages/pandas/core/base.py:1025\u001b[0m, in \u001b[0;36mIndexOpsMixin.unique\u001b[0;34m(self)\u001b[0m\n\u001b[1;32m   1023\u001b[0m     result \u001b[38;5;241m=\u001b[39m values\u001b[38;5;241m.\u001b[39munique()\n\u001b[1;32m   1024\u001b[0m \u001b[38;5;28;01melse\u001b[39;00m:\n\u001b[0;32m-> 1025\u001b[0m     result \u001b[38;5;241m=\u001b[39m \u001b[43malgorithms\u001b[49m\u001b[38;5;241;43m.\u001b[39;49m\u001b[43munique1d\u001b[49m\u001b[43m(\u001b[49m\u001b[43mvalues\u001b[49m\u001b[43m)\u001b[49m\n\u001b[1;32m   1026\u001b[0m \u001b[38;5;28;01mreturn\u001b[39;00m result\n",
      "File \u001b[0;32m~/anaconda3/envs/neuroprofile/lib/python3.10/site-packages/pandas/core/algorithms.py:401\u001b[0m, in \u001b[0;36munique\u001b[0;34m(values)\u001b[0m\n\u001b[1;32m    307\u001b[0m \u001b[38;5;28;01mdef\u001b[39;00m \u001b[38;5;21munique\u001b[39m(values):\n\u001b[1;32m    308\u001b[0m \u001b[38;5;250m    \u001b[39m\u001b[38;5;124;03m\"\"\"\u001b[39;00m\n\u001b[1;32m    309\u001b[0m \u001b[38;5;124;03m    Return unique values based on a hash table.\u001b[39;00m\n\u001b[1;32m    310\u001b[0m \n\u001b[0;32m   (...)\u001b[0m\n\u001b[1;32m    399\u001b[0m \u001b[38;5;124;03m    array([('a', 'b'), ('b', 'a'), ('a', 'c')], dtype=object)\u001b[39;00m\n\u001b[1;32m    400\u001b[0m \u001b[38;5;124;03m    \"\"\"\u001b[39;00m\n\u001b[0;32m--> 401\u001b[0m     \u001b[38;5;28;01mreturn\u001b[39;00m \u001b[43munique_with_mask\u001b[49m\u001b[43m(\u001b[49m\u001b[43mvalues\u001b[49m\u001b[43m)\u001b[49m\n",
      "File \u001b[0;32m~/anaconda3/envs/neuroprofile/lib/python3.10/site-packages/pandas/core/algorithms.py:438\u001b[0m, in \u001b[0;36munique_with_mask\u001b[0;34m(values, mask)\u001b[0m\n\u001b[1;32m    435\u001b[0m original \u001b[38;5;241m=\u001b[39m values\n\u001b[1;32m    436\u001b[0m hashtable, values \u001b[38;5;241m=\u001b[39m _get_hashtable_algo(values)\n\u001b[0;32m--> 438\u001b[0m table \u001b[38;5;241m=\u001b[39m hashtable(\u001b[38;5;28;43mlen\u001b[39;49m\u001b[43m(\u001b[49m\u001b[43mvalues\u001b[49m\u001b[43m)\u001b[49m)\n\u001b[1;32m    439\u001b[0m \u001b[38;5;28;01mif\u001b[39;00m mask \u001b[38;5;129;01mis\u001b[39;00m \u001b[38;5;28;01mNone\u001b[39;00m:\n\u001b[1;32m    440\u001b[0m     uniques \u001b[38;5;241m=\u001b[39m table\u001b[38;5;241m.\u001b[39munique(values)\n",
      "\u001b[0;31mKeyboardInterrupt\u001b[0m: "
     ]
    },
    {
     "data": {
      "text/plain": [
       "<Figure size 640x480 with 0 Axes>"
      ]
     },
     "metadata": {},
     "output_type": "display_data"
    }
   ],
   "source": [
    "for index in range(len(ecg_filepaths)):\n",
    "    try:\n",
    "        dyad_number, condition, wave = data_utils.extract_subject_id_condition_from_filepath(ecg_filepaths[index])\n",
    "        print(f\"Processing recording {index+1}/{len(ecg_filepaths)}. Dyad number: {dyad_number}. Condition: {condition}. Wave: {wave}\")\n",
    "        nk_pipeline.process_dyad(\n",
    "            ecg_filepath = ecg_filepaths[index],\n",
    "            event_filepath = event_filepaths[index],\n",
    "            parameters=params.base_params,\n",
    "            data_output_dir=PROCESSED_DATA_DIR,\n",
    "            figure_output_dir=QA_REPORTS_DIR\n",
    "        );\n",
    "    except Exception as e:\n",
    "        print(f\"Error processing {ecg_filepaths[index]}: {e}\")\n",
    "    gc.collect()\n"
   ]
  },
  {
   "cell_type": "markdown",
   "metadata": {},
   "source": [
    "# DEBUG STUFF\n",
    "|    \n",
    "V    "
   ]
  },
  {
   "cell_type": "code",
   "execution_count": null,
   "metadata": {},
   "outputs": [],
   "source": [
    "event_filepaths[0]"
   ]
  },
  {
   "cell_type": "code",
   "execution_count": null,
   "metadata": {},
   "outputs": [],
   "source": [
    "ecg_filepaths[0]"
   ]
  },
  {
   "cell_type": "markdown",
   "metadata": {},
   "source": [
    "# Preprocess first"
   ]
  },
  {
   "cell_type": "code",
   "execution_count": null,
   "metadata": {},
   "outputs": [],
   "source": [
    "# Load and prepare\n",
    "signal_event_df = data_utils.load_dyad_ecg_events(ecg_filepaths[0], event_filepaths[0])\n",
    "dyad_parameters = params.configure_segmentation_params(1, params.base_params)\n",
    "child_params, mother_params = params.configure_ecg_params(1, dyad_parameters)\n",
    "child_series, mother_series = data_utils.split_in_child_mother_series(signal_event_df)\n",
    "\n",
    "# Preprocess ECG\n",
    "child_signals_df = nk_pipeline.ecg_preprocess(child_series, child_params)\n",
    "mother_signals_df = nk_pipeline.ecg_preprocess(mother_series, mother_params)\n",
    "\n",
    "# Join the preprocessed signals with the events\n",
    "child_signal_event_df = child_signals_df.merge(signal_event_df[[\"event\", \"event_description\"]], left_index=True, right_index=True, how = \"left\")\n",
    "mother_signal_event_df = mother_signals_df.merge(signal_event_df[[\"event\", \"event_description\"]], left_index=True, right_index=True, how = \"left\")"
   ]
  },
  {
   "cell_type": "code",
   "execution_count": null,
   "metadata": {},
   "outputs": [],
   "source": [
    "child_signal_event_df.head()"
   ]
  },
  {
   "cell_type": "markdown",
   "metadata": {},
   "source": [
    "## Then segment and analyze"
   ]
  },
  {
   "cell_type": "code",
   "execution_count": null,
   "metadata": {},
   "outputs": [],
   "source": [
    "# segment the dataframe\n",
    "child_segments_df_list = data_utils.segment_df(child_signal_event_df, dyad_parameters)\n",
    "mother_segments_df_list = data_utils.segment_df(mother_signal_event_df, dyad_parameters)"
   ]
  },
  {
   "cell_type": "code",
   "execution_count": null,
   "metadata": {},
   "outputs": [],
   "source": [
    "test_df = child_segments_df_list[0]\n",
    "test_df[test_df.ECG_R_Peaks == 1].index.diff().dropna()"
   ]
  },
  {
   "cell_type": "code",
   "execution_count": null,
   "metadata": {},
   "outputs": [],
   "source": []
  },
  {
   "cell_type": "code",
   "execution_count": null,
   "metadata": {},
   "outputs": [],
   "source": []
  },
  {
   "cell_type": "code",
   "execution_count": null,
   "metadata": {},
   "outputs": [],
   "source": []
  },
  {
   "cell_type": "code",
   "execution_count": null,
   "metadata": {},
   "outputs": [],
   "source": []
  }
 ],
 "metadata": {
  "kernelspec": {
   "display_name": "neuroprofile",
   "language": "python",
   "name": "python3"
  },
  "language_info": {
   "codemirror_mode": {
    "name": "ipython",
    "version": 3
   },
   "file_extension": ".py",
   "mimetype": "text/x-python",
   "name": "python",
   "nbconvert_exporter": "python",
   "pygments_lexer": "ipython3",
   "version": "3.10.14"
  }
 },
 "nbformat": 4,
 "nbformat_minor": 2
}
